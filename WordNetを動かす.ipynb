{
  "nbformat": 4,
  "nbformat_minor": 0,
  "metadata": {
    "colab": {
      "name": "WordNetを動かす.ipynb",
      "version": "0.3.2",
      "provenance": [],
      "include_colab_link": true
    },
    "kernelspec": {
      "name": "python3",
      "display_name": "Python 3"
    }
  },
  "cells": [
    {
      "cell_type": "markdown",
      "metadata": {
        "id": "view-in-github",
        "colab_type": "text"
      },
      "source": [
        "<a href=\"https://colab.research.google.com/github/Utree/deeplearning2_colab_log/blob/master/WordNet%E3%82%92%E5%8B%95%E3%81%8B%E3%81%99.ipynb\" target=\"_parent\"><img src=\"https://colab.research.google.com/assets/colab-badge.svg\" alt=\"Open In Colab\"/></a>"
      ]
    },
    {
      "metadata": {
        "id": "cOJSkMmQJ5pQ",
        "colab_type": "text"
      },
      "cell_type": "markdown",
      "source": [
        "WordNetをPythonから利用するには、NLTKというライブラリを使用する。\n",
        "\n",
        "NLTKとは、自然言語処理のためのPythonライブラリで、品詞タグ付け、構文解析、情報抽出、意味解析などの機能がある。"
      ]
    },
    {
      "metadata": {
        "id": "Z6JTlp5fJzWm",
        "colab_type": "code",
        "colab": {
          "base_uri": "https://localhost:8080/",
          "height": 53
        },
        "outputId": "c7db05f9-d883-47e8-84a6-5c0b195b066d"
      },
      "cell_type": "code",
      "source": [
        "# NLTKのインストール\n",
        "!pip install nltk"
      ],
      "execution_count": 1,
      "outputs": [
        {
          "output_type": "stream",
          "text": [
            "Requirement already satisfied: nltk in /usr/local/lib/python3.6/dist-packages (3.2.5)\n",
            "Requirement already satisfied: six in /usr/local/lib/python3.6/dist-packages (from nltk) (1.11.0)\n"
          ],
          "name": "stdout"
        }
      ]
    },
    {
      "metadata": {
        "id": "GPwMKCH1KQZH",
        "colab_type": "code",
        "colab": {}
      },
      "cell_type": "code",
      "source": [
        "import nltk"
      ],
      "execution_count": 0,
      "outputs": []
    },
    {
      "metadata": {
        "id": "fK_tVlnYKT1v",
        "colab_type": "code",
        "colab": {}
      },
      "cell_type": "code",
      "source": [
        "from nltk.corpus import wordnet"
      ],
      "execution_count": 0,
      "outputs": []
    },
    {
      "metadata": {
        "id": "J4Rt0VGCLNes",
        "colab_type": "code",
        "colab": {
          "base_uri": "https://localhost:8080/",
          "height": 71
        },
        "outputId": "776c4bd4-de30-4329-f956-9f7f9086ccf0"
      },
      "cell_type": "code",
      "source": [
        "nltk.download('wordnet')"
      ],
      "execution_count": 12,
      "outputs": [
        {
          "output_type": "stream",
          "text": [
            "[nltk_data] Downloading package wordnet to /root/nltk_data...\n",
            "[nltk_data]   Unzipping corpora/wordnet.zip.\n"
          ],
          "name": "stdout"
        },
        {
          "output_type": "execute_result",
          "data": {
            "text/plain": [
              "True"
            ]
          },
          "metadata": {
            "tags": []
          },
          "execution_count": 12
        }
      ]
    },
    {
      "metadata": {
        "id": "TI2-TOwQKdnM",
        "colab_type": "code",
        "colab": {
          "base_uri": "https://localhost:8080/",
          "height": 107
        },
        "outputId": "ff51c56e-a6e5-4ec9-abe0-5869416c817a"
      },
      "cell_type": "code",
      "source": [
        "wordnet.synsets('car')"
      ],
      "execution_count": 13,
      "outputs": [
        {
          "output_type": "execute_result",
          "data": {
            "text/plain": [
              "[Synset('car.n.01'),\n",
              " Synset('car.n.02'),\n",
              " Synset('car.n.03'),\n",
              " Synset('car.n.04'),\n",
              " Synset('cable_car.n.01')]"
            ]
          },
          "metadata": {
            "tags": []
          },
          "execution_count": 13
        }
      ]
    },
    {
      "metadata": {
        "id": "7NXDBfzxLa-B",
        "colab_type": "code",
        "colab": {
          "base_uri": "https://localhost:8080/",
          "height": 35
        },
        "outputId": "8713d778-6072-4e7a-9dbf-87c86f5bb070"
      },
      "cell_type": "code",
      "source": [
        "car = wordnet.synset('car.n.01') # 同義語グループ\n",
        "car.definition()"
      ],
      "execution_count": 14,
      "outputs": [
        {
          "output_type": "execute_result",
          "data": {
            "text/plain": [
              "'a motor vehicle with four wheels; usually propelled by an internal combustion engine'"
            ]
          },
          "metadata": {
            "tags": []
          },
          "execution_count": 14
        }
      ]
    },
    {
      "metadata": {
        "id": "4U_eTiA4LoZw",
        "colab_type": "code",
        "colab": {
          "base_uri": "https://localhost:8080/",
          "height": 35
        },
        "outputId": "e94c406e-66cb-4f8e-f2ec-d02a89af525a"
      },
      "cell_type": "code",
      "source": [
        "# lemma_namesメソッド: 同義語グループに存在する単語名を取得できる\n",
        "car.lemma_names()"
      ],
      "execution_count": 15,
      "outputs": [
        {
          "output_type": "execute_result",
          "data": {
            "text/plain": [
              "['car', 'auto', 'automobile', 'machine', 'motorcar']"
            ]
          },
          "metadata": {
            "tags": []
          },
          "execution_count": 15
        }
      ]
    },
    {
      "metadata": {
        "id": "gwOf9CHPLxf8",
        "colab_type": "code",
        "colab": {
          "base_uri": "https://localhost:8080/",
          "height": 215
        },
        "outputId": "b4371e40-390e-4cf3-c5c0-7083c1123092"
      },
      "cell_type": "code",
      "source": [
        "# hypernymは上位語\n",
        "car.hypernym_paths()[0]\n",
        "\n",
        "# 上に行くにつれて、抽象的になる"
      ],
      "execution_count": 16,
      "outputs": [
        {
          "output_type": "execute_result",
          "data": {
            "text/plain": [
              "[Synset('entity.n.01'),\n",
              " Synset('physical_entity.n.01'),\n",
              " Synset('object.n.01'),\n",
              " Synset('whole.n.02'),\n",
              " Synset('artifact.n.01'),\n",
              " Synset('instrumentality.n.03'),\n",
              " Synset('container.n.01'),\n",
              " Synset('wheeled_vehicle.n.01'),\n",
              " Synset('self-propelled_vehicle.n.01'),\n",
              " Synset('motor_vehicle.n.01'),\n",
              " Synset('car.n.01')]"
            ]
          },
          "metadata": {
            "tags": []
          },
          "execution_count": 16
        }
      ]
    },
    {
      "metadata": {
        "id": "m2ewrYZCMNFC",
        "colab_type": "code",
        "colab": {}
      },
      "cell_type": "code",
      "source": [
        "# car, novel, dog, motorcycleのそれぞれの類似度を求める\n",
        "car = wordnet.synset('car.n.01')\n",
        "novel = wordnet.synset('novel.n.01')\n",
        "dog = wordnet.synset('dog.n.01')\n",
        "motorcycle = wordnet.synset('motorcycle.n.01')"
      ],
      "execution_count": 0,
      "outputs": []
    },
    {
      "metadata": {
        "id": "RInAgieVMmb5",
        "colab_type": "code",
        "colab": {
          "base_uri": "https://localhost:8080/",
          "height": 35
        },
        "outputId": "b6338a13-7800-4692-94eb-d0c350461649"
      },
      "cell_type": "code",
      "source": [
        "car.path_similarity(novel)"
      ],
      "execution_count": 18,
      "outputs": [
        {
          "output_type": "execute_result",
          "data": {
            "text/plain": [
              "0.05555555555555555"
            ]
          },
          "metadata": {
            "tags": []
          },
          "execution_count": 18
        }
      ]
    },
    {
      "metadata": {
        "id": "mBlzZWErMpsw",
        "colab_type": "code",
        "colab": {
          "base_uri": "https://localhost:8080/",
          "height": 35
        },
        "outputId": "3038ca60-096f-4cca-d2f5-7dd40d76ae1f"
      },
      "cell_type": "code",
      "source": [
        "car.path_similarity(dog)"
      ],
      "execution_count": 19,
      "outputs": [
        {
          "output_type": "execute_result",
          "data": {
            "text/plain": [
              "0.07692307692307693"
            ]
          },
          "metadata": {
            "tags": []
          },
          "execution_count": 19
        }
      ]
    },
    {
      "metadata": {
        "id": "FOUCqvMTMsDE",
        "colab_type": "code",
        "colab": {
          "base_uri": "https://localhost:8080/",
          "height": 35
        },
        "outputId": "9ba241a9-9d9b-457b-9264-f990d20b5d99"
      },
      "cell_type": "code",
      "source": [
        "car.path_similarity(motorcycle)"
      ],
      "execution_count": 20,
      "outputs": [
        {
          "output_type": "execute_result",
          "data": {
            "text/plain": [
              "0.3333333333333333"
            ]
          },
          "metadata": {
            "tags": []
          },
          "execution_count": 20
        }
      ]
    },
    {
      "metadata": {
        "id": "KcNU3P-4Myy5",
        "colab_type": "text"
      },
      "cell_type": "markdown",
      "source": [
        "ここでの類似度は単語ネットワークの経路から類似度を算出している"
      ]
    }
  ]
}