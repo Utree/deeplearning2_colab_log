{
  "nbformat": 4,
  "nbformat_minor": 0,
  "metadata": {
    "colab": {
      "name": "1章.ipynb",
      "version": "0.3.2",
      "provenance": [],
      "collapsed_sections": [],
      "include_colab_link": true
    },
    "kernelspec": {
      "name": "python3",
      "display_name": "Python 3"
    }
  },
  "cells": [
    {
      "cell_type": "markdown",
      "metadata": {
        "id": "view-in-github",
        "colab_type": "text"
      },
      "source": [
        "<a href=\"https://colab.research.google.com/github/Utree/deeplearning2_colab_log/blob/master/1%E7%AB%A0.ipynb\" target=\"_parent\"><img src=\"https://colab.research.google.com/assets/colab-badge.svg\" alt=\"Open In Colab\"/></a>"
      ]
    },
    {
      "metadata": {
        "id": "d1o5TF6bOPfk",
        "colab_type": "code",
        "outputId": "968bf072-7e41-4a25-e8db-fd76f635a43f",
        "colab": {
          "base_uri": "https://localhost:8080/",
          "height": 35
        }
      },
      "cell_type": "code",
      "source": [
        "import numpy as np\n",
        "\n",
        "x = np.array([1, 2, 3])\n",
        "x.__class__ # クラス名を表示"
      ],
      "execution_count": 0,
      "outputs": [
        {
          "output_type": "execute_result",
          "data": {
            "text/plain": [
              "numpy.ndarray"
            ]
          },
          "metadata": {
            "tags": []
          },
          "execution_count": 30
        }
      ]
    },
    {
      "metadata": {
        "id": "AWgwVKLFP6o1",
        "colab_type": "text"
      },
      "cell_type": "markdown",
      "source": [
        "shapeメソッドで形状を表示"
      ]
    },
    {
      "metadata": {
        "id": "Gg1iYASLPcdM",
        "colab_type": "code",
        "outputId": "90213d07-1c58-4faa-f1be-db90795a1aa1",
        "colab": {
          "base_uri": "https://localhost:8080/",
          "height": 35
        }
      },
      "cell_type": "code",
      "source": [
        "x.shape"
      ],
      "execution_count": 0,
      "outputs": [
        {
          "output_type": "execute_result",
          "data": {
            "text/plain": [
              "(3,)"
            ]
          },
          "metadata": {
            "tags": []
          },
          "execution_count": 2
        }
      ]
    },
    {
      "metadata": {
        "id": "yqd2qZj4P-Yq",
        "colab_type": "text"
      },
      "cell_type": "markdown",
      "source": [
        "ndimメソッドで次元数を表示"
      ]
    },
    {
      "metadata": {
        "id": "86Vsy0qTPfTf",
        "colab_type": "code",
        "outputId": "b0e9aee7-a397-4af6-c6f4-5e264c8a05e7",
        "colab": {
          "base_uri": "https://localhost:8080/",
          "height": 35
        }
      },
      "cell_type": "code",
      "source": [
        "x.ndim"
      ],
      "execution_count": 0,
      "outputs": [
        {
          "output_type": "execute_result",
          "data": {
            "text/plain": [
              "1"
            ]
          },
          "metadata": {
            "tags": []
          },
          "execution_count": 3
        }
      ]
    },
    {
      "metadata": {
        "id": "cx-grJWZPnn_",
        "colab_type": "code",
        "outputId": "14ad629d-7453-4d06-8097-ac24bfce3883",
        "colab": {
          "base_uri": "https://localhost:8080/",
          "height": 35
        }
      },
      "cell_type": "code",
      "source": [
        "W = np.array([[1, 2, 3], [4, 5, 6]])\n",
        "W.shape"
      ],
      "execution_count": 0,
      "outputs": [
        {
          "output_type": "execute_result",
          "data": {
            "text/plain": [
              "(2, 3)"
            ]
          },
          "metadata": {
            "tags": []
          },
          "execution_count": 4
        }
      ]
    },
    {
      "metadata": {
        "id": "JlUpTzHXPtmx",
        "colab_type": "code",
        "outputId": "eb56feb3-a03a-41ca-8d55-abc33ba4656a",
        "colab": {
          "base_uri": "https://localhost:8080/",
          "height": 35
        }
      },
      "cell_type": "code",
      "source": [
        "W.ndim"
      ],
      "execution_count": 0,
      "outputs": [
        {
          "output_type": "execute_result",
          "data": {
            "text/plain": [
              "2"
            ]
          },
          "metadata": {
            "tags": []
          },
          "execution_count": 5
        }
      ]
    },
    {
      "metadata": {
        "id": "7qI_Fn70QWt-",
        "colab_type": "text"
      },
      "cell_type": "markdown",
      "source": [
        "行列の要素ごとの演算"
      ]
    },
    {
      "metadata": {
        "id": "HhRSq5LHQICL",
        "colab_type": "code",
        "outputId": "8a8bddd9-633a-4211-c132-973d39e26c27",
        "colab": {
          "base_uri": "https://localhost:8080/",
          "height": 53
        }
      },
      "cell_type": "code",
      "source": [
        "W = np.array([[1, 2, 3], [4, 5, 6]])\n",
        "X = np.array([[0, 1, 2], [3, 4, 5]])\n",
        "W + X"
      ],
      "execution_count": 0,
      "outputs": [
        {
          "output_type": "execute_result",
          "data": {
            "text/plain": [
              "array([[ 1,  3,  5],\n",
              "       [ 7,  9, 11]])"
            ]
          },
          "metadata": {
            "tags": []
          },
          "execution_count": 6
        }
      ]
    },
    {
      "metadata": {
        "id": "tGKOkZ0AQTKI",
        "colab_type": "code",
        "outputId": "f13dbb17-5176-40f6-d217-ba13f77f6479",
        "colab": {
          "base_uri": "https://localhost:8080/",
          "height": 53
        }
      },
      "cell_type": "code",
      "source": [
        "W * X"
      ],
      "execution_count": 0,
      "outputs": [
        {
          "output_type": "execute_result",
          "data": {
            "text/plain": [
              "array([[ 0,  2,  6],\n",
              "       [12, 20, 30]])"
            ]
          },
          "metadata": {
            "tags": []
          },
          "execution_count": 7
        }
      ]
    },
    {
      "metadata": {
        "id": "JqQ0jejVQZmS",
        "colab_type": "text"
      },
      "cell_type": "markdown",
      "source": [
        "ブロードキャスト"
      ]
    },
    {
      "metadata": {
        "id": "VBrATuq1QbNY",
        "colab_type": "code",
        "outputId": "c90f6d5c-9af2-482a-eae4-e8d42ebb7f8b",
        "colab": {
          "base_uri": "https://localhost:8080/",
          "height": 53
        }
      },
      "cell_type": "code",
      "source": [
        "A = np.array([[1, 2], [3, 4]])\n",
        "A * 10"
      ],
      "execution_count": 0,
      "outputs": [
        {
          "output_type": "execute_result",
          "data": {
            "text/plain": [
              "array([[10, 20],\n",
              "       [30, 40]])"
            ]
          },
          "metadata": {
            "tags": []
          },
          "execution_count": 9
        }
      ]
    },
    {
      "metadata": {
        "id": "YCFnZUB-QlRJ",
        "colab_type": "code",
        "outputId": "069be1f3-1675-4e59-e934-cffbf24076df",
        "colab": {
          "base_uri": "https://localhost:8080/",
          "height": 53
        }
      },
      "cell_type": "code",
      "source": [
        "A = np.array([[1, 2], [3, 4]])\n",
        "b = np.array([10, 20])\n",
        "A * b"
      ],
      "execution_count": 0,
      "outputs": [
        {
          "output_type": "execute_result",
          "data": {
            "text/plain": [
              "array([[10, 40],\n",
              "       [30, 80]])"
            ]
          },
          "metadata": {
            "tags": []
          },
          "execution_count": 10
        }
      ]
    },
    {
      "metadata": {
        "id": "i8tYx34wRiEU",
        "colab_type": "text"
      },
      "cell_type": "markdown",
      "source": [
        "ベクトルの内積 : ２つのベクトルがどれだけ同じ方向を向いているか?\n",
        "２つのベクトルが全く同じ方向を向いていれば、内積は1\n",
        "逆向きであれば、内積は-1"
      ]
    },
    {
      "metadata": {
        "id": "g6-wyDSRTqWF",
        "colab_type": "text"
      },
      "cell_type": "markdown",
      "source": [
        "![ベクトルの内積](https://rikeinvest.com/wp-content/uploads/2018/10/PNG%E3%82%A4%E3%83%A1%E3%83%BC%E3%82%B8-8.png)"
      ]
    },
    {
      "metadata": {
        "id": "8ZLJaXrTTv2W",
        "colab_type": "text"
      },
      "cell_type": "markdown",
      "source": [
        "行列の積"
      ]
    },
    {
      "metadata": {
        "id": "8VD6wkRETxU4",
        "colab_type": "text"
      },
      "cell_type": "markdown",
      "source": [
        "![ベクトルの内積](http://www.zeroprog.com/wp-content/uploads/2017/06/%E8%A1%8C%E5%88%97%E3%81%AE%E7%A9%8D%E3%81%AE%E8%A8%88%E7%AE%97%E6%96%B9%E6%B3%95-1024x723.jpg)"
      ]
    },
    {
      "metadata": {
        "id": "jtZRiSlHRa1t",
        "colab_type": "code",
        "outputId": "6edc2744-2bdb-4518-efa4-9455f33b3247",
        "colab": {
          "base_uri": "https://localhost:8080/",
          "height": 35
        }
      },
      "cell_type": "code",
      "source": [
        "# ベクトルの内積\n",
        "a = np.array([1, 2, 3])\n",
        "b = np.array([4, 5, 6])\n",
        "np.dot(a, b)"
      ],
      "execution_count": 0,
      "outputs": [
        {
          "output_type": "execute_result",
          "data": {
            "text/plain": [
              "32"
            ]
          },
          "metadata": {
            "tags": []
          },
          "execution_count": 11
        }
      ]
    },
    {
      "metadata": {
        "id": "zh5HboHaUIFZ",
        "colab_type": "code",
        "outputId": "6aeb69fc-284a-48b1-eb83-b1c710b6dc47",
        "colab": {
          "base_uri": "https://localhost:8080/",
          "height": 53
        }
      },
      "cell_type": "code",
      "source": [
        "# 行列の積\n",
        "A = np.array([[1, 2], [3, 4]])\n",
        "B = np.array([[5, 6], [7, 8]])\n",
        "np.dot(A, B)"
      ],
      "execution_count": 0,
      "outputs": [
        {
          "output_type": "execute_result",
          "data": {
            "text/plain": [
              "array([[19, 22],\n",
              "       [43, 50]])"
            ]
          },
          "metadata": {
            "tags": []
          },
          "execution_count": 12
        }
      ]
    },
    {
      "metadata": {
        "id": "X2qDSiYlUF2X",
        "colab_type": "text"
      },
      "cell_type": "markdown",
      "source": [
        "行列やベクトル計算では、形状チェックが重要"
      ]
    },
    {
      "metadata": {
        "id": "_14h-eaDZrwU",
        "colab_type": "text"
      },
      "cell_type": "markdown",
      "source": [
        "ミニバッチ版の全結合層による変換"
      ]
    },
    {
      "metadata": {
        "id": "wo32PVL2a33l",
        "colab_type": "text"
      },
      "cell_type": "markdown",
      "source": [
        "np.random.randn(行列の形状)で平均0、標準偏差1の正規分布に従った変数が生成される"
      ]
    },
    {
      "metadata": {
        "id": "4RElrQKsVkh_",
        "colab_type": "code",
        "colab": {}
      },
      "cell_type": "code",
      "source": [
        "W1 = np.random.randn(2, 4) # 重み\n",
        "b1 = np.random.randn(4) # バイアス\n",
        "x = np.random.randn(10, 2) # 入力\n",
        "h = np.dot(x, W1) + b1"
      ],
      "execution_count": 0,
      "outputs": []
    },
    {
      "metadata": {
        "id": "g-Ouh-e_bGUN",
        "colab_type": "text"
      },
      "cell_type": "markdown",
      "source": [
        "シグモイド関数"
      ]
    },
    {
      "metadata": {
        "id": "xzG-mZpZcwkW",
        "colab_type": "code",
        "colab": {}
      },
      "cell_type": "code",
      "source": [
        "import matplotlib.pyplot as plt\n",
        "import numpy as np"
      ],
      "execution_count": 0,
      "outputs": []
    },
    {
      "metadata": {
        "id": "3HN8wzyaczv-",
        "colab_type": "code",
        "colab": {}
      },
      "cell_type": "code",
      "source": [
        "def sigmoid(x):\n",
        "  return 1 / (1 + np.exp(-x)) # np.exp(-x)でeの-x乗を表す"
      ],
      "execution_count": 0,
      "outputs": []
    },
    {
      "metadata": {
        "id": "rtpASPqTblsk",
        "colab_type": "code",
        "outputId": "3c50a542-75af-4038-8772-9417e1228f9f",
        "colab": {
          "base_uri": "https://localhost:8080/",
          "height": 347
        }
      },
      "cell_type": "code",
      "source": [
        "# np.arange(初項, 終点, ステップ数)で等差数列を生成する\n",
        "x = np.arange(-10, 10, 0.1)\n",
        "\n",
        "# 計算\n",
        "y = sigmoid(x)\n",
        "\n",
        "# プロットして、表示\n",
        "plt.plot(x, y)\n",
        "plt.show()"
      ],
      "execution_count": 0,
      "outputs": [
        {
          "output_type": "display_data",
          "data": {
            "image/png": "[encoded data removed]",
            "text/plain": [
              "<Figure size 576x396 with 1 Axes>"
            ]
          },
          "metadata": {
            "tags": []
          }
        }
      ]
    },
    {
      "metadata": {
        "id": "HNqtyJfvbIvX",
        "colab_type": "text"
      },
      "cell_type": "markdown",
      "source": [
        ""
      ]
    },
    {
      "metadata": {
        "id": "GgtfhXsnbTJ2",
        "colab_type": "code",
        "colab": {}
      },
      "cell_type": "code",
      "source": [
        "a = sigmoid(h)"
      ],
      "execution_count": 0,
      "outputs": []
    },
    {
      "metadata": {
        "id": "F7VJfc68dBXu",
        "colab_type": "code",
        "colab": {}
      },
      "cell_type": "code",
      "source": [
        "x = np.random.randn(10, 2)\n",
        "W1 = np.random.randn(2, 4)\n",
        "b1 = np.random.randn(4)\n",
        "W2 = np.random.randn(4, 3)\n",
        "b2 = np.random.randn(3)\n",
        "\n",
        "h = np.dot(x, W1) + b1\n",
        "a = sigmoid(h)\n",
        "s = np.dot(a, W2) + b2"
      ],
      "execution_count": 0,
      "outputs": []
    },
    {
      "metadata": {
        "id": "stykCFNveGcD",
        "colab_type": "text"
      },
      "cell_type": "markdown",
      "source": [
        "### 全結合層による変換をAffineレイヤ\n",
        "### シグモイド関数による変換をSigmidレイヤとして定義"
      ]
    },
    {
      "metadata": {
        "id": "ezvKNc10eyEU",
        "colab_type": "text"
      },
      "cell_type": "markdown",
      "source": [
        "各レイヤはクラスとして定義"
      ]
    },
    {
      "metadata": {
        "id": "apyk6HXFe12M",
        "colab_type": "text"
      },
      "cell_type": "markdown",
      "source": [
        "各クラスはforwardメソッドとbackwardメソッドを持つ"
      ]
    },
    {
      "metadata": {
        "id": "le7SyeEne9C0",
        "colab_type": "text"
      },
      "cell_type": "markdown",
      "source": [
        "各クラスはparamsとgradsを持つ"
      ]
    },
    {
      "metadata": {
        "id": "oJROY-3leWDD",
        "colab_type": "code",
        "colab": {}
      },
      "cell_type": "code",
      "source": [
        "# シグモイドレイヤ\n",
        "class Sigmoid:\n",
        "  def __init__(self):\n",
        "    self.params = []\n",
        "    \n",
        "  # 順伝播のメソッドでシグモイド関数を実装\n",
        "  def forward(self, x):\n",
        "    return 1 / (1 + np.exp(-x))"
      ],
      "execution_count": 0,
      "outputs": []
    },
    {
      "metadata": {
        "id": "fR0z_PURfvHX",
        "colab_type": "code",
        "colab": {}
      },
      "cell_type": "code",
      "source": [
        "# Affineレイヤ\n",
        "class Affine:\n",
        "  def __init__(self, W, b):\n",
        "    self.params = [W, b]\n",
        "    \n",
        "  # 順伝播のメソッドで行列の積を計算する\n",
        "  def forward(self, x):\n",
        "    W, b = self.params\n",
        "    \n",
        "    return np.dot(x, W) + b"
      ],
      "execution_count": 0,
      "outputs": []
    },
    {
      "metadata": {
        "id": "TVBbSipKgeZ7",
        "colab_type": "code",
        "colab": {}
      },
      "cell_type": "code",
      "source": [
        "class TwoLayerNet:\n",
        "  def __init__(self, input_size, hidden_size, output_size):\n",
        "    I, H, O = input_size, hidden_size, output_size\n",
        "    \n",
        "    # 重みとバイアスの初期値\n",
        "    W1 = np.random.randn(I, H)\n",
        "    b1 = np.random.randn(H)\n",
        "    W2 = np.random.randn(H, O)\n",
        "    b2 = np.random.randn(O)\n",
        "    \n",
        "    # レイヤの生成\n",
        "    self.layers = [\n",
        "        Affine(W1, b1),\n",
        "        Sigmoid(),\n",
        "        Affine(W2, b2)\n",
        "    ]\n",
        "    \n",
        "    # すべての重みをリストにまとめる\n",
        "    self.params = []\n",
        "    for layer in self.layers:\n",
        "      self.params += layer.params\n",
        "      \n",
        "  def predict(self, x):\n",
        "    # 各レイヤーを順に通していく\n",
        "    for layer in self.layers:\n",
        "      x = layer.forward(x)\n",
        "      \n",
        "    return x"
      ],
      "execution_count": 0,
      "outputs": []
    },
    {
      "metadata": {
        "id": "j7i2sqCYDuT2",
        "colab_type": "code",
        "outputId": "03745f31-94f8-4ca0-ab1a-6b2e28d68fdf",
        "colab": {
          "base_uri": "https://localhost:8080/",
          "height": 35
        }
      },
      "cell_type": "code",
      "source": [
        "a = ['A', 'B']\n",
        "a += ['C', 'D']\n",
        "a"
      ],
      "execution_count": 0,
      "outputs": [
        {
          "output_type": "execute_result",
          "data": {
            "text/plain": [
              "['A', 'B', 'C', 'D']"
            ]
          },
          "metadata": {
            "tags": []
          },
          "execution_count": 1
        }
      ]
    },
    {
      "metadata": {
        "id": "4G3wGAhNyntO",
        "colab_type": "code",
        "outputId": "6dc69bb2-1226-4599-dbbf-3661d03b3eff",
        "colab": {
          "base_uri": "https://localhost:8080/",
          "height": 197
        }
      },
      "cell_type": "code",
      "source": [
        "x = np.random.randn(10, 2)\n",
        "model = TwoLayerNet(2, 4, 3)\n",
        "s = model.predict(x)\n",
        "print(s)"
      ],
      "execution_count": 0,
      "outputs": [
        {
          "output_type": "stream",
          "text": [
            "[[ 0.48994321 -0.43124547 -0.72383753]\n",
            " [ 0.00863904 -0.5697909  -0.13844711]\n",
            " [ 1.10513154 -0.52455088 -0.93603948]\n",
            " [ 1.94023707 -0.64875967 -1.06192242]\n",
            " [ 1.83002603 -0.34307977 -1.60124779]\n",
            " [ 1.91540155 -0.40007866 -1.54062424]\n",
            " [ 0.58491352 -0.45299092 -0.750898  ]\n",
            " [ 0.90872376 -0.24824648 -1.2474322 ]\n",
            " [ 0.2938054  -0.68094571 -0.20109719]\n",
            " [ 1.75312284 -0.41759194 -1.41306478]]\n"
          ],
          "name": "stdout"
        }
      ]
    },
    {
      "metadata": {
        "id": "FQX5h8fxE4mw",
        "colab_type": "text"
      },
      "cell_type": "markdown",
      "source": [
        "学習がどれだけうまくいっているかを知るための「指標」: 損失(loss)"
      ]
    },
    {
      "metadata": {
        "id": "eMoQmlhBFJg8",
        "colab_type": "text"
      },
      "cell_type": "markdown",
      "source": [
        "ニューラルネットワークの損失を求めるには損失関数(loss function)を使用する"
      ]
    },
    {
      "metadata": {
        "id": "Tb7xhpeZFQZf",
        "colab_type": "text"
      },
      "cell_type": "markdown",
      "source": [
        "ニューラルネットワークでは、損失関数として交差エントロピー(Cross Entropy Error)を用いる"
      ]
    },
    {
      "metadata": {
        "id": "SjwA9HioIt8q",
        "colab_type": "text"
      },
      "cell_type": "markdown",
      "source": [
        "活性化関数"
      ]
    },
    {
      "metadata": {
        "id": "V0fhMzSpJkqr",
        "colab_type": "text"
      },
      "cell_type": "markdown",
      "source": [
        "1つのニューロンへの入力は、それぞれの入力(X1 , X2 , X3)に重み(W1 , W2 , W3)をかけ合わせた値にバイアス(b)を足した値となります。この合計値に対して、特定の関数を経由することで最終的な出力値を決定します。\n",
        "\n",
        "その出力値を決定する関数が活性化関数となります。"
      ]
    },
    {
      "metadata": {
        "id": "39e50tvBIvzJ",
        "colab_type": "text"
      },
      "cell_type": "markdown",
      "source": [
        "![](https://newtechnologylifestyle.net/wp-content/uploads/2018/02/%E6%B4%BB%E6%80%A7%E5%8C%96%E9%96%A2%E6%95%B0.png)"
      ]
    },
    {
      "metadata": {
        "id": "61UVZnkSJry5",
        "colab_type": "text"
      },
      "cell_type": "markdown",
      "source": [
        "c.f.)\n",
        "https://newtechnologylifestyle.net/%E3%82%84%E3%81%A3%E3%81%B1%E3%82%8A%E3%82%88%E3%81%8F%E5%88%86%E3%81%8B%E3%82%89%E3%81%AA%E3%81%84%E6%B4%BB%E6%80%A7%E5%8C%96%E9%96%A2%E6%95%B0%E3%81%A8%E3%81%AF/"
      ]
    },
    {
      "metadata": {
        "id": "tl9BWe6tJ3mg",
        "colab_type": "text"
      },
      "cell_type": "markdown",
      "source": [
        "シグモイド関数は2クラスの識別問題の場合に非常によく使用されます"
      ]
    },
    {
      "metadata": {
        "id": "VPMkRN2SH88Z",
        "colab_type": "text"
      },
      "cell_type": "markdown",
      "source": [
        "ソフトマックス関数:\n",
        "多クラス問題の識別ではソフトマックス関数がよく使用されています"
      ]
    },
    {
      "metadata": {
        "id": "vdiflf4yKSeG",
        "colab_type": "text"
      },
      "cell_type": "markdown",
      "source": [
        "softmax関数の出力の各要素は0.0〜1.0以下実数になり、すべて足し合わせると1.0になるので、確率として解釈できる"
      ]
    },
    {
      "metadata": {
        "id": "eWoFKx4vDtDG",
        "colab_type": "code",
        "colab": {}
      },
      "cell_type": "code",
      "source": [
        "# ソフトマックス関数\n",
        "def softmax(a):\n",
        "    # 一番大きい値を取得\n",
        "    c = np.max(a)\n",
        "    # 各要素から一番大きな値を引く（オーバーフロー対策）\n",
        "    exp_a = np.exp(a - c)\n",
        "    sum_exp_a = np.sum(exp_a)\n",
        "    # 要素の値/全体の要素の合計\n",
        "    return exp_a / sum_exp_a"
      ],
      "execution_count": 0,
      "outputs": []
    },
    {
      "metadata": {
        "id": "0Qh-1sDBIF9d",
        "colab_type": "code",
        "outputId": "464cc35b-53d4-45c8-83cd-f3550af00e2b",
        "colab": {
          "base_uri": "https://localhost:8080/",
          "height": 351
        }
      },
      "cell_type": "code",
      "source": [
        "# np.arange(初項, 終点, ステップ数)で等差数列を生成する\n",
        "x = np.arange(-5, 5, 0.1)\n",
        "\n",
        "# 計算\n",
        "y = softmax(x)\n",
        "\n",
        "# プロットして、表示\n",
        "plt.plot(x, y)\n",
        "plt.show()"
      ],
      "execution_count": 0,
      "outputs": [
        {
          "output_type": "display_data",
          "data": {
            "image/png": "[encoded data removed]",
            "text/plain": [
              "<Figure size 576x396 with 1 Axes>"
            ]
          },
          "metadata": {
            "tags": []
          }
        }
      ]
    },
    {
      "metadata": {
        "id": "P_G0764PL3tn",
        "colab_type": "text"
      },
      "cell_type": "markdown",
      "source": [
        "損失関数 : 交差エントロピー誤差"
      ]
    },
    {
      "metadata": {
        "id": "EwBVNe-xMAJc",
        "colab_type": "text"
      },
      "cell_type": "markdown",
      "source": [
        "log(x)"
      ]
    },
    {
      "metadata": {
        "id": "yJrQ4XkCMYPc",
        "colab_type": "code",
        "outputId": "d9bd3946-0fee-49e5-ff1b-6ddb39e3f338",
        "colab": {
          "base_uri": "https://localhost:8080/",
          "height": 347
        }
      },
      "cell_type": "code",
      "source": [
        "x = np.arange(0.0001, 10, 0.1)\n",
        "\n",
        "y = np.log(x)\n",
        "plt.plot(x, y)\n",
        "plt.show()"
      ],
      "execution_count": 0,
      "outputs": [
        {
          "output_type": "display_data",
          "data": {
            "image/png": "[encoded data removed]",
            "text/plain": [
              "<Figure size 576x396 with 1 Axes>"
            ]
          },
          "metadata": {
            "tags": []
          }
        }
      ]
    },
    {
      "metadata": {
        "id": "uBHJT7SrL3gF",
        "colab_type": "code",
        "colab": {}
      },
      "cell_type": "code",
      "source": [
        "# 交差エントロピー関数\n",
        "def cross_entropy_error(y, t):\n",
        "  delta = 1e-7\n",
        "  return -np.sum(t * np.log(y + delta))"
      ],
      "execution_count": 0,
      "outputs": []
    },
    {
      "metadata": {
        "id": "NcJSXAgxM5oT",
        "colab_type": "code",
        "outputId": "c0c16e08-f6c6-46d4-d12e-a599eef38666",
        "colab": {
          "base_uri": "https://localhost:8080/",
          "height": 35
        }
      },
      "cell_type": "code",
      "source": [
        "t = [0, 0, 1, 0, 0, 0, 0, 0, 0, 0]\n",
        "y = [0.1, 0.05, 0.6, 0.0, 0.05, 0.1, 0.0, 0.1, 0.0, 0.0]\n",
        "cross_entropy_error(np.array(y), np.array(t))"
      ],
      "execution_count": 0,
      "outputs": [
        {
          "output_type": "execute_result",
          "data": {
            "text/plain": [
              "0.510825457099338"
            ]
          },
          "metadata": {
            "tags": []
          },
          "execution_count": 11
        }
      ]
    },
    {
      "metadata": {
        "id": "vdP1GzgYNIgw",
        "colab_type": "code",
        "outputId": "3f3991e8-3050-42c9-b842-9ad6264cc642",
        "colab": {
          "base_uri": "https://localhost:8080/",
          "height": 35
        }
      },
      "cell_type": "code",
      "source": [
        "y = [0.1, 0.05, 0.1, 0.0, 0.05, 0.1, 0.0, 0.6, 0.0, 0.0]\n",
        "cross_entropy_error(np.array(y), np.array(t))"
      ],
      "execution_count": 0,
      "outputs": [
        {
          "output_type": "execute_result",
          "data": {
            "text/plain": [
              "2.302584092994546"
            ]
          },
          "metadata": {
            "tags": []
          },
          "execution_count": 12
        }
      ]
    },
    {
      "metadata": {
        "id": "hvMvM527OAcW",
        "colab_type": "code",
        "colab": {}
      },
      "cell_type": "code",
      "source": [
        "# ソフトマックス関数\n",
        "def softmax(a):\n",
        "    # 一番大きい値を取得\n",
        "    c = np.max(a)\n",
        "    # 各要素から一番大きな値を引く（オーバーフロー対策）\n",
        "    exp_a = np.exp(a - c)\n",
        "    sum_exp_a = np.sum(exp_a)\n",
        "    # 要素の値/全体の要素の合計\n",
        "    return exp_a / sum_exp_a\n",
        "\n",
        "# # 交差エントロピー誤差関数\n",
        "# def cross_entropy_error(y, t):\n",
        "#   delta = 1e-7\n",
        "#   return -np.sum(t * np.log(y + delta))\n",
        "def cross_entropy_error(y, t):\n",
        "  if y.ndim == 1:\n",
        "    t = t.reshape(1, t.size)\n",
        "    y = y.reshape(1, y.size)\n",
        "  \n",
        "  # 教師データがone-hot-vectorの場合、正解ラベルのインデックスに変換\n",
        "  if t.size == y.size:\n",
        "    t = t.argmax(axis=1)\n",
        "  \n",
        "  batch_size = y.shape[0]\n",
        "  \n",
        "  return -np.sum(np.log(y[np.arange(batch_size), t] + 1e-7)) / batch_size\n",
        "\n",
        "# softmax with loss レイヤ\n",
        "class SoftmaxWithLoss:\n",
        "  def __init__(self):\n",
        "    self.params, self.grads = [], []\n",
        "    self.y = None # softmaxの出力\n",
        "    self.t = None # 教師ラベル\n",
        "    \n",
        "  def forward(self, x, t):\n",
        "    self.t = t\n",
        "    self.y = softmax(x)\n",
        "    \n",
        "    # 教師ラベルがone-hotベクトルの場合、正解のインデックスに変換\n",
        "    if self.t.size == self.y.size:\n",
        "      self.t = self.t.argmax(axis=1)\n",
        "  \n",
        "    loss = cross_entropy_error(self.y, self.t)\n",
        "    return loss\n",
        "  \n",
        "  def backward(self, dout=1):\n",
        "    batch_size = self.t.shape[0]\n",
        "    \n",
        "    dx = self.y.copy()\n",
        "    dx[np.arange(batch_size), self.t] -= 1\n",
        "    dx *= dout\n",
        "    dx = dx / batch_size\n",
        "    \n",
        "    return dx"
      ],
      "execution_count": 0,
      "outputs": []
    },
    {
      "metadata": {
        "id": "oJEn9vB_UJzD",
        "colab_type": "text"
      },
      "cell_type": "markdown",
      "source": [
        "微分はある関数における変化の度合いを求めること"
      ]
    },
    {
      "metadata": {
        "id": "AVx8DwjjUVMq",
        "colab_type": "text"
      },
      "cell_type": "markdown",
      "source": [
        "勾配 : ベクトルの各要素に関する微分をまとめたもの\n",
        "\n",
        "数学用語の「勾配」では、ベクトルに対しての微分に限定される一方で、ディープラーニングの分野では、行列やテンソルについても微分を定義し、それを「勾配」と呼ぶ\n"
      ]
    },
    {
      "metadata": {
        "id": "4AXv9FK5RqN2",
        "colab_type": "code",
        "outputId": "c651c117-24a1-4287-b9fa-aaffacec2ce8",
        "colab": {
          "base_uri": "https://localhost:8080/",
          "height": 347
        }
      },
      "cell_type": "code",
      "source": [
        "# np.arange(初項, 終点, ステップ数)で等差数列を生成する\n",
        "x = np.arange(-4, 4, 0.1)\n",
        "\n",
        "# 計算\n",
        "y1 = x*x\n",
        "\n",
        "y2 = 2*x-1\n",
        "\n",
        "# プロットして、表示\n",
        "plt.plot(x, y1)\n",
        "plt.plot(x, y2)\n",
        "plt.show()"
      ],
      "execution_count": 0,
      "outputs": [
        {
          "output_type": "display_data",
          "data": {
            "image/png": "[encoded data removed]",
            "text/plain": [
              "<Figure size 576x396 with 1 Axes>"
            ]
          },
          "metadata": {
            "tags": []
          }
        }
      ]
    },
    {
      "metadata": {
        "id": "QD0kB31_Vei2",
        "colab_type": "text"
      },
      "cell_type": "markdown",
      "source": [
        "合成関数とは、複数の関数によって、構成される関数"
      ]
    },
    {
      "metadata": {
        "id": "LTdfqes9VjbP",
        "colab_type": "text"
      },
      "cell_type": "markdown",
      "source": [
        "合成関数を微分する際は、チェインルール(連鎖律)を適応させる"
      ]
    },
    {
      "metadata": {
        "id": "DLfUHYEkV7-0",
        "colab_type": "text"
      },
      "cell_type": "markdown",
      "source": [
        "誤差逆伝播法"
      ]
    },
    {
      "metadata": {
        "id": "zoGeFQPOXeRq",
        "colab_type": "text"
      },
      "cell_type": "markdown",
      "source": [
        "計算グラフ : 計算の過程をグラフに表したもの"
      ]
    },
    {
      "metadata": {
        "id": "z1codBn9X3K2",
        "colab_type": "text"
      },
      "cell_type": "markdown",
      "source": [
        "計算グラフの特徴 : 局所的な計算を伝播することによって最終的な結果を得ることができる"
      ]
    },
    {
      "metadata": {
        "id": "xRtW2CJ8XmGH",
        "colab_type": "text"
      },
      "cell_type": "markdown",
      "source": [
        "順伝播 : 計算グラフを左から右へ進めること"
      ]
    },
    {
      "metadata": {
        "id": "V3M3v80zXwq_",
        "colab_type": "text"
      },
      "cell_type": "markdown",
      "source": [
        "逆伝播: 計算グラフを右から左へ進めること"
      ]
    },
    {
      "metadata": {
        "id": "IcFfwfe6ZOhh",
        "colab_type": "text"
      },
      "cell_type": "markdown",
      "source": [
        "計算グラフのメリットは逆伝播をするときに多くの恩恵を受けることが出来る。\n"
      ]
    },
    {
      "metadata": {
        "id": "_JVeOIXCZ20a",
        "colab_type": "text"
      },
      "cell_type": "markdown",
      "source": [
        "例えば、１つ100円のリンゴを2つ買い、消費税が１０%だった場合、"
      ]
    },
    {
      "metadata": {
        "id": "pAiZbtYoZ4q3",
        "colab_type": "text"
      },
      "cell_type": "markdown",
      "source": [
        "リンゴの価格が１円上がったときに、最終的な金額は何円増加するか?"
      ]
    },
    {
      "metadata": {
        "id": "JPcCWK0fZ8Af",
        "colab_type": "text"
      },
      "cell_type": "markdown",
      "source": [
        "のような計算を簡単に求めることができる"
      ]
    },
    {
      "metadata": {
        "id": "WapUm4xPbv9R",
        "colab_type": "text"
      },
      "cell_type": "markdown",
      "source": [
        "y = a * t * x\n",
        "\n",
        "δy / δx = at\n",
        "\n",
        "y = 2 * 100 * 1.1\n",
        "\n",
        "δy / δx  = 2.2"
      ]
    },
    {
      "metadata": {
        "id": "QsuXqu0YcTeH",
        "colab_type": "code",
        "colab": {}
      },
      "cell_type": "code",
      "source": [
        "import numpy as np\n",
        "\n",
        "# Repeatノード\n",
        "D, N = 8, 7\n",
        "x = np.random.randn(1, D) # 入力\n",
        "y = np.repeat(x, N, axis=0) # forward\n",
        "\n",
        "dy = np.random.randn(N, D) # 仮の勾配\n",
        "dx = np.sum(dy, axis=0, keepdims=True) # backward"
      ],
      "execution_count": 0,
      "outputs": []
    },
    {
      "metadata": {
        "id": "XEt10xJcczft",
        "colab_type": "code",
        "colab": {}
      },
      "cell_type": "code",
      "source": [
        "import numpy as np\n",
        "\n",
        "# Sumノード\n",
        "D, N = 8, 7\n",
        "x = np.random.randn(N, D) # 入力\n",
        "y = np.sum(x, axis=0, keepdims =True) # forward\n",
        "\n",
        "dy = np.random.randn(1, D) # 仮の勾配\n",
        "dx = np.repeat(dy, N, axis=0) # backward"
      ],
      "execution_count": 0,
      "outputs": []
    },
    {
      "metadata": {
        "id": "cMVgY92fdkla",
        "colab_type": "text"
      },
      "cell_type": "markdown",
      "source": [
        "SumノードとRepeatノードはそれぞれ逆の関係にある。"
      ]
    },
    {
      "metadata": {
        "id": "7qw1bisrc1Bs",
        "colab_type": "code",
        "outputId": "cbf043f1-9663-4405-d4c1-28a0929ddc7e",
        "colab": {
          "base_uri": "https://localhost:8080/",
          "height": 53
        }
      },
      "cell_type": "code",
      "source": [
        "dy"
      ],
      "execution_count": 0,
      "outputs": [
        {
          "output_type": "execute_result",
          "data": {
            "text/plain": [
              "array([[-0.76855128,  1.19396349,  0.76376529, -0.12660023, -0.38413461,\n",
              "         0.13840012, -0.53737315,  1.37850863]])"
            ]
          },
          "metadata": {
            "tags": []
          },
          "execution_count": 34
        }
      ]
    },
    {
      "metadata": {
        "id": "S4ySfIVtdcIc",
        "colab_type": "code",
        "outputId": "26efba5b-fc64-4fea-9bcb-2310c8eaf022",
        "colab": {
          "base_uri": "https://localhost:8080/",
          "height": 269
        }
      },
      "cell_type": "code",
      "source": [
        "dx"
      ],
      "execution_count": 0,
      "outputs": [
        {
          "output_type": "execute_result",
          "data": {
            "text/plain": [
              "array([[-0.76855128,  1.19396349,  0.76376529, -0.12660023, -0.38413461,\n",
              "         0.13840012, -0.53737315,  1.37850863],\n",
              "       [-0.76855128,  1.19396349,  0.76376529, -0.12660023, -0.38413461,\n",
              "         0.13840012, -0.53737315,  1.37850863],\n",
              "       [-0.76855128,  1.19396349,  0.76376529, -0.12660023, -0.38413461,\n",
              "         0.13840012, -0.53737315,  1.37850863],\n",
              "       [-0.76855128,  1.19396349,  0.76376529, -0.12660023, -0.38413461,\n",
              "         0.13840012, -0.53737315,  1.37850863],\n",
              "       [-0.76855128,  1.19396349,  0.76376529, -0.12660023, -0.38413461,\n",
              "         0.13840012, -0.53737315,  1.37850863],\n",
              "       [-0.76855128,  1.19396349,  0.76376529, -0.12660023, -0.38413461,\n",
              "         0.13840012, -0.53737315,  1.37850863],\n",
              "       [-0.76855128,  1.19396349,  0.76376529, -0.12660023, -0.38413461,\n",
              "         0.13840012, -0.53737315,  1.37850863]])"
            ]
          },
          "metadata": {
            "tags": []
          },
          "execution_count": 35
        }
      ]
    },
    {
      "metadata": {
        "id": "rkzbRzu-snBa",
        "colab_type": "text"
      },
      "cell_type": "markdown",
      "source": [
        "MatMulノード : 行列の積(逆伝播の計算グラフでは転置行列をかける)"
      ]
    },
    {
      "metadata": {
        "id": "Fp-QxGcxs8Ug",
        "colab_type": "code",
        "colab": {}
      },
      "cell_type": "code",
      "source": [
        "class MatMul:\n",
        "  def __init__(self, W):\n",
        "    self.params = [W]\n",
        "    self.grads = [np.zeros_like(W)]\n",
        "    self.x = None\n",
        "  \n",
        "  def forward(self, x):\n",
        "    W, = self.params\n",
        "    out = np.dot(x, W)\n",
        "    self.x = x\n",
        "    return out\n",
        "  \n",
        "  def backward(self, dout):\n",
        "    W, = self.params\n",
        "    dx = np.dot(dout, W.T)\n",
        "    dW = np.dot(self.x.T, dout)\n",
        "    self.grads[0][...] = dW\n",
        "    return dx"
      ],
      "execution_count": 0,
      "outputs": []
    },
    {
      "metadata": {
        "id": "GewKtaWntnJ2",
        "colab_type": "text"
      },
      "cell_type": "markdown",
      "source": [
        "「３点リーダー」: [...]\n",
        "grads[0][...] = dwとgrads[0] = dwはほとんど同じ意味"
      ]
    },
    {
      "metadata": {
        "id": "RGb3ewDkt0E2",
        "colab_type": "text"
      },
      "cell_type": "markdown",
      "source": [
        "Numpy配列をコピーする際にメモリ空間上に複製するか、ポインタを移動させるかの違いがある。"
      ]
    },
    {
      "metadata": {
        "id": "yF4kRWCVtm6w",
        "colab_type": "code",
        "colab": {}
      },
      "cell_type": "code",
      "source": [
        "# Sigmoidレイヤ\n",
        "class Sigmoid:\n",
        "  def __init__(self):\n",
        "    self.params, self.grads = [], []\n",
        "    self.out = None\n",
        "  \n",
        "  def forward(self, x):\n",
        "    out = 1 / (1 + np.exp(-x))\n",
        "    self.out = out\n",
        "    return out\n",
        "  \n",
        "  def backward(self, dout):\n",
        "    dx = dout * (1.0 - self.out) * self.out\n",
        "    return dx"
      ],
      "execution_count": 0,
      "outputs": []
    },
    {
      "metadata": {
        "id": "VDfrM4nOvNov",
        "colab_type": "code",
        "colab": {}
      },
      "cell_type": "code",
      "source": [
        "# Affineレイヤ\n",
        "class Affine:\n",
        "  def __init__(self, W, b):\n",
        "    self.params = [W, b]\n",
        "    self.grads = [np.zeros_like(W), np.zeros_like(b)]\n",
        "    self.x = None\n",
        "    \n",
        "  def forward(self, x):\n",
        "    W, b = self.params\n",
        "    out = np.dot(x, W) + b\n",
        "    self.x = x\n",
        "    return out\n",
        "  \n",
        "  def backward(self, dout):\n",
        "    W, b = self.params\n",
        "    dx = np.dot(dout, W.T)\n",
        "    dW = np.dot(self.x.T, dout)\n",
        "    db = np.sum(dout, axis=0)\n",
        "    \n",
        "    self.grads[0][...] = dW\n",
        "    self.grads[1][...] = db\n",
        "    return dx"
      ],
      "execution_count": 0,
      "outputs": []
    },
    {
      "metadata": {
        "id": "p7zNSRixxhkC",
        "colab_type": "code",
        "colab": {}
      },
      "cell_type": "code",
      "source": [
        "# 交差エントロピー誤差関数\n",
        "def cross_entropy_error(y, t):\n",
        "  delta = 1e-7\n",
        "  return -np.sum(t * np.log(y + delta))\n",
        "\n",
        "# Softmax with Lossレイヤ\n",
        "class SigmoidWithLoss:\n",
        "  def __init__(self):\n",
        "    self.params, self.grads = [], []\n",
        "    self.loss = None\n",
        "    self.y = None # sigmoidの出力\n",
        "    self.t = None # 教師データ\n",
        "    \n",
        "  def forward(self, x, t):\n",
        "    self.t = t\n",
        "    self.y = 1 / (1 + np.exp(-x))\n",
        "    \n",
        "    self.loss = cross_entropy_error(np.c_[1 - self.y, self.y], self.t)\n",
        "    \n",
        "    return self.loss\n",
        "  \n",
        "  def backward(self, dout=1):\n",
        "    batch_size = self.t.shape[0]\n",
        "    \n",
        "    dx = (self.y - self.t) * dout / batch_size\n",
        "    return dx"
      ],
      "execution_count": 0,
      "outputs": []
    },
    {
      "metadata": {
        "id": "Ew-V5OARynwu",
        "colab_type": "text"
      },
      "cell_type": "markdown",
      "source": [
        "複数の関数を通す -> 誤差逆伝播法によって勾配を求める -> 勾配を使ってパラメータを更新する"
      ]
    },
    {
      "metadata": {
        "id": "U-dih1JQy46c",
        "colab_type": "text"
      },
      "cell_type": "markdown",
      "source": [
        "訓練データの中からランダムに複数のデータを選び出す -> 誤差逆伝播法によって各損失関数に関する重みパラメータの勾配を求める -> 勾配を使って重みパラメータを更新する -> 繰り返す"
      ]
    },
    {
      "metadata": {
        "id": "aNYIB9RozNmS",
        "colab_type": "text"
      },
      "cell_type": "markdown",
      "source": [
        "勾配降下法：誤差逆伝播法によって得た勾配を用いて、パラメータを逆方向に更新すること"
      ]
    },
    {
      "metadata": {
        "id": "eJz5BspN4ESM",
        "colab_type": "text"
      },
      "cell_type": "markdown",
      "source": [
        "SGD(Stochastic Gradient Descent: 確率的勾配降下法)\n",
        "確率的とは、ランダムに選ばれたデータ(ミニバッチ)に対する勾配を用いること"
      ]
    },
    {
      "metadata": {
        "id": "zQoQZ_Fs5wun",
        "colab_type": "text"
      },
      "cell_type": "markdown",
      "source": [
        "初 期 化 の 際 の 引 数 で あ る lr は learning rate（ 学 習 係 数 ）を 表\n",
        "し ま す"
      ]
    },
    {
      "metadata": {
        "id": "ra7MAtR46H22",
        "colab_type": "text"
      },
      "cell_type": "markdown",
      "source": [
        "(更新後の重みパラメータ) = (更新前の重みパラメータ) - (学習係数)*(損失関数の勾配)"
      ]
    },
    {
      "metadata": {
        "id": "ZfZvqYv0zYvH",
        "colab_type": "code",
        "outputId": "27241f27-f290-4de0-fdb5-b4b41622556b",
        "colab": {
          "base_uri": "https://localhost:8080/",
          "height": 35
        }
      },
      "cell_type": "code",
      "source": [
        "import numpy as np\n",
        "np.random.permutation(10)"
      ],
      "execution_count": 0,
      "outputs": [
        {
          "output_type": "execute_result",
          "data": {
            "text/plain": [
              "array([3, 5, 0, 9, 7, 6, 1, 2, 4, 8])"
            ]
          },
          "metadata": {
            "tags": []
          },
          "execution_count": 14
        }
      ]
    },
    {
      "metadata": {
        "id": "bjC6Se0hzfOd",
        "colab_type": "code",
        "outputId": "de837b85-b71a-4971-b7d6-65897bc7c535",
        "colab": {
          "base_uri": "https://localhost:8080/",
          "height": 35
        }
      },
      "cell_type": "code",
      "source": [
        "np.random.permutation(10)"
      ],
      "execution_count": 0,
      "outputs": [
        {
          "output_type": "execute_result",
          "data": {
            "text/plain": [
              "array([6, 9, 5, 4, 1, 0, 8, 7, 3, 2])"
            ]
          },
          "metadata": {
            "tags": []
          },
          "execution_count": 15
        }
      ]
    },
    {
      "metadata": {
        "id": "Kj1wOSgWf4ei",
        "colab_type": "code",
        "outputId": "0a847162-8d7f-4892-8e87-953d2f8b6366",
        "colab": {
          "base_uri": "https://localhost:8080/",
          "height": 35
        }
      },
      "cell_type": "code",
      "source": [
        "import numpy as np\n",
        "a = np.random.randn(3)\n",
        "a.dtype"
      ],
      "execution_count": 0,
      "outputs": [
        {
          "output_type": "execute_result",
          "data": {
            "text/plain": [
              "dtype('float64')"
            ]
          },
          "metadata": {
            "tags": []
          },
          "execution_count": 20
        }
      ]
    },
    {
      "metadata": {
        "id": "Tk3lFeSkgHbG",
        "colab_type": "text"
      },
      "cell_type": "markdown",
      "source": [
        "Numpyで32ビット浮動小数点数を使う"
      ]
    },
    {
      "metadata": {
        "id": "PcQqyKlPgNPY",
        "colab_type": "code",
        "outputId": "521fae4e-6153-4cd4-a1d4-c93ddf95f0aa",
        "colab": {
          "base_uri": "https://localhost:8080/",
          "height": 35
        }
      },
      "cell_type": "code",
      "source": [
        "b = np.random.randn(3).astype(np.float32)\n",
        "b.dtype"
      ],
      "execution_count": 0,
      "outputs": [
        {
          "output_type": "execute_result",
          "data": {
            "text/plain": [
              "dtype('float32')"
            ]
          },
          "metadata": {
            "tags": []
          },
          "execution_count": 21
        }
      ]
    },
    {
      "metadata": {
        "id": "xQqCrGGRgTQp",
        "colab_type": "code",
        "outputId": "30c58700-6b4a-4500-d219-c3230655c1aa",
        "colab": {
          "base_uri": "https://localhost:8080/",
          "height": 35
        }
      },
      "cell_type": "code",
      "source": [
        "c = np.random.randn(3).astype('f')\n",
        "c.dtype"
      ],
      "execution_count": 0,
      "outputs": [
        {
          "output_type": "execute_result",
          "data": {
            "text/plain": [
              "dtype('float32')"
            ]
          },
          "metadata": {
            "tags": []
          },
          "execution_count": 22
        }
      ]
    },
    {
      "metadata": {
        "id": "vcn-yKWmgmx7",
        "colab_type": "code",
        "colab": {}
      },
      "cell_type": "code",
      "source": [
        "import cupy as cp\n",
        "x = cp.arange(6).rashape(2, 3).astype('f')\n",
        "x"
      ],
      "execution_count": 0,
      "outputs": []
    }
  ]
}