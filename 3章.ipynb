{
  "nbformat": 4,
  "nbformat_minor": 0,
  "metadata": {
    "colab": {
      "name": "3章.ipynb",
      "version": "0.3.2",
      "provenance": [],
      "include_colab_link": true
    },
    "kernelspec": {
      "name": "python3",
      "display_name": "Python 3"
    }
  },
  "cells": [
    {
      "cell_type": "markdown",
      "metadata": {
        "id": "view-in-github",
        "colab_type": "text"
      },
      "source": [
        "<a href=\"https://colab.research.google.com/github/Utree/deeplearning2_colab_log/blob/master/3%E7%AB%A0.ipynb\" target=\"_parent\"><img src=\"https://colab.research.google.com/assets/colab-badge.svg\" alt=\"Open In Colab\"/></a>"
      ]
    },
    {
      "metadata": {
        "id": "dRtOsVYwue4B",
        "colab_type": "text"
      },
      "cell_type": "markdown",
      "source": [
        "## 単語の分散表現 〜推論ベースの手法word2vec〜\n",
        "カウントベースの手法では、周囲の単語の頻度によって、共起行列を作り、その行列に対して、SVDを適応することで、密なベクトル単語の分散表現を獲得しました。\n",
        "\n",
        "しかし、カウントベースの手法には問題点があり、大規模なコーパスを扱う場合、巨大な行列を作ることになります。しかし、巨大な行列に対して、SVDを行うことは現実的ではありません。"
      ]
    },
    {
      "metadata": {
        "id": "MPWf3XOZvuMq",
        "colab_type": "text"
      },
      "cell_type": "markdown",
      "source": [
        ""
      ]
    },
    {
      "metadata": {
        "id": "mpmxk9oIttvM",
        "colab_type": "code",
        "colab": {}
      },
      "cell_type": "code",
      "source": [
        ""
      ],
      "execution_count": 0,
      "outputs": []
    }
  ]
}